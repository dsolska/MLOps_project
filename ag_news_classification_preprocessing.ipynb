{
 "cells": [
  {
   "cell_type": "markdown",
   "source": [
    "## Set up env variable"
   ],
   "metadata": {
    "collapsed": false
   },
   "id": "54698d45061c573a"
  },
  {
   "cell_type": "code",
   "execution_count": 19,
   "outputs": [],
   "source": [
    "import os\n",
    "from getpass import getpass\n",
    "os.environ[\"NEPTUNE_API_TOKEN\"] = getpass(\"Enter your API key here: \")"
   ],
   "metadata": {
    "collapsed": false,
    "ExecuteTime": {
     "end_time": "2023-12-14T19:17:17.180127Z",
     "start_time": "2023-12-14T19:17:08.279848Z"
    }
   },
   "id": "53990a243900553d"
  },
  {
   "cell_type": "markdown",
   "source": [
    "## Init Neptune variables and validate dataset"
   ],
   "metadata": {
    "collapsed": false
   },
   "id": "949dbd9acd5a93c3"
  },
  {
   "cell_type": "code",
   "execution_count": 20,
   "outputs": [
    {
     "name": "stdout",
     "output_type": "stream",
     "text": [
      "https://app.neptune.ai/dagm.solska/ag-news-classification/e/AG-14\n",
      "https://app.neptune.ai/dagm.solska/ag-news-classification/\n"
     ]
    }
   ],
   "source": [
    "import neptune\n",
    "\n",
    "run = neptune.init_run(\n",
    "    name=\"Random Forest with preprocessing\",\n",
    "    tags=[\"RandomForest\", \"classification\", 'preprocessing'],\n",
    "    project=\"dagm.solska/ag-news-classification\",\n",
    ")\n",
    "\n",
    "project = neptune.init_project(project=\"dagm.solska/ag-news-classification\")\n",
    "\n",
    "# Log the current dataset as an artifact\n",
    "TRAIN_DATASET_PATH = \"data_train.csv\"\n",
    "run[\"datasets/train\"].track_files(TRAIN_DATASET_PATH, wait=True)\n",
    "TEST_DATASET_PATH = \"data_test.csv\"\n",
    "run[\"datasets/test\"].track_files(TEST_DATASET_PATH, wait=True)\n",
    "\n",
    "# Assert that the current dataset is the latest version\n",
    "assert (\n",
    "    run[\"datasets/train\"].fetch_hash()\n",
    "    == project[\"dataset_train/latest\"].fetch_hash()\n",
    ")\n",
    "assert (\n",
    "    run[\"datasets/test\"].fetch_hash()\n",
    "    == project[\"dataset_test/latest\"].fetch_hash()\n",
    ")"
   ],
   "metadata": {
    "collapsed": false,
    "ExecuteTime": {
     "end_time": "2023-12-14T19:17:20.494887Z",
     "start_time": "2023-12-14T19:17:19.364728Z"
    }
   },
   "id": "d37119e6477e51"
  },
  {
   "cell_type": "markdown",
   "source": [
    "## Prepare data (preprocessing)"
   ],
   "metadata": {
    "collapsed": false
   },
   "id": "18793d96d2ae84dc"
  },
  {
   "cell_type": "code",
   "execution_count": 21,
   "outputs": [],
   "source": [
    "import pandas as pd\n",
    "\n",
    "data_train = pd.read_csv(\"data_train.csv\")\n",
    "data_test = pd.read_csv(\"data_test.csv\")\n",
    "data_train['text'] = data_train['text'].map(lambda x: x.lower())\n",
    "data_test['text'] = data_test['text'].map(lambda x: x.lower())\n",
    "\n",
    "X_train, y_train = data_train['text'], data_train['label']\n",
    "X_test, y_test = data_test['text'], data_test['label']"
   ],
   "metadata": {
    "collapsed": false,
    "ExecuteTime": {
     "end_time": "2023-12-14T19:17:23.465618Z",
     "start_time": "2023-12-14T19:17:22.879054Z"
    }
   },
   "id": "22217dbf7b7a463f"
  },
  {
   "cell_type": "markdown",
   "source": [
    "## Train new model with parameters based on data from Neptune and log results to Neptune"
   ],
   "metadata": {
    "collapsed": false
   },
   "id": "136debe4b7be2621"
  },
  {
   "cell_type": "code",
   "execution_count": 22,
   "outputs": [],
   "source": [
    "import neptune.integrations.sklearn as npt_utils\n",
    "from sklearn.pipeline import Pipeline\n",
    "from sklearn.ensemble import RandomForestClassifier\n",
    "from sklearn.feature_extraction.text import CountVectorizer, TfidfTransformer\n",
    "\n",
    "text_clf = Pipeline([\n",
    "    ('vect', CountVectorizer()),\n",
    "    ('tfidf', TfidfTransformer()),\n",
    "    ('clf', RandomForestClassifier(n_estimators=200, min_samples_split=5)),\n",
    "        ],\n",
    ")\n",
    "\n",
    "text_clf.fit(X_train, y_train)\n",
    "\n",
    "run[\"cls_summary\"] = npt_utils.create_classifier_summary(\n",
    "    text_clf, X_train, X_test, y_train, y_test\n",
    ")\n",
    "\n"
   ],
   "metadata": {
    "collapsed": false,
    "ExecuteTime": {
     "end_time": "2023-12-14T19:32:31.748159Z",
     "start_time": "2023-12-14T19:17:25.146849Z"
    }
   },
   "id": "91197652e5f5a925"
  },
  {
   "cell_type": "markdown",
   "source": [
    "## Upload as the first production model"
   ],
   "metadata": {
    "collapsed": false
   },
   "id": "bc5394a37a25a5a7"
  },
  {
   "cell_type": "code",
   "execution_count": 23,
   "outputs": [
    {
     "name": "stdout",
     "output_type": "stream",
     "text": [
      "https://app.neptune.ai/dagm.solska/ag-news-classification/m/AG-AG\n"
     ]
    }
   ],
   "source": [
    "model = neptune.init_model(\n",
    "        name=\"Initial model\",\n",
    "        project=\"dagm.solska/ag-news-classification\", \n",
    "        key='AG'\n",
    ")"
   ],
   "metadata": {
    "collapsed": false,
    "ExecuteTime": {
     "end_time": "2023-12-14T19:41:29.557954Z",
     "start_time": "2023-12-14T19:41:29.306583Z"
    }
   },
   "id": "167a30f7a2662328"
  },
  {
   "cell_type": "code",
   "execution_count": 24,
   "outputs": [
    {
     "name": "stdout",
     "output_type": "stream",
     "text": [
      "https://app.neptune.ai/dagm.solska/ag-news-classification/m/AG-AG/v/AG-AG-1\n"
     ]
    }
   ],
   "source": [
    "# Initialize a ModelVersion object and assign the run ID and the URL of the run to it\n",
    "model_version = neptune.init_model_version(\n",
    "    model=\"AG-AG\", \n",
    "    project='dagm.solska/ag-news-classification'\n",
    ")\n",
    "\n",
    "model_version[\"run/id\"] = run[\"sys/id\"].fetch()\n",
    "\n",
    "model_version[\"run/url\"] = run.get_url()"
   ],
   "metadata": {
    "collapsed": false,
    "ExecuteTime": {
     "end_time": "2023-12-14T19:43:07.418754Z",
     "start_time": "2023-12-14T19:43:06.969141Z"
    }
   },
   "id": "8afb56a76d630b9a"
  },
  {
   "cell_type": "markdown",
   "source": [
    "## Log notebook to the app and close Neptune objects"
   ],
   "metadata": {
    "collapsed": false
   },
   "id": "e5dbcead9f3bdbee"
  },
  {
   "cell_type": "code",
   "execution_count": 25,
   "outputs": [
    {
     "name": "stdout",
     "output_type": "stream",
     "text": [
      "Shutting down background jobs, please wait a moment...\n",
      "Done!\n",
      "All 0 operations synced, thanks for waiting!\n",
      "Explore the metadata in the Neptune app:\n",
      "https://app.neptune.ai/dagm.solska/ag-news-classification/m/AG-AG/metadata\n",
      "Shutting down background jobs, please wait a moment...\n",
      "Done!\n",
      "All 0 operations synced, thanks for waiting!\n",
      "Explore the metadata in the Neptune app:\n",
      "https://app.neptune.ai/dagm.solska/ag-news-classification/e/AG-14/metadata\n",
      "Shutting down background jobs, please wait a moment...\n",
      "Done!\n",
      "Waiting for the remaining 1 operations to synchronize with Neptune. Do not kill this process.\n",
      "All 1 operations synced, thanks for waiting!\n",
      "Explore the metadata in the Neptune app:\n",
      "https://app.neptune.ai/dagm.solska/ag-news-classification/metadata\n"
     ]
    }
   ],
   "source": [
    "project[\"initial_model_with_preprocessing\"].upload(\"ag_news_classification_preprocessing.ipynb\")\n",
    "model.stop()\n",
    "run.stop()\n",
    "project.stop()"
   ],
   "metadata": {
    "collapsed": false,
    "ExecuteTime": {
     "end_time": "2023-12-14T19:43:51.159238Z",
     "start_time": "2023-12-14T19:43:50.716101Z"
    }
   },
   "id": "443576a05472fb94"
  }
 ],
 "metadata": {
  "kernelspec": {
   "display_name": "Python 3",
   "language": "python",
   "name": "python3"
  },
  "language_info": {
   "codemirror_mode": {
    "name": "ipython",
    "version": 2
   },
   "file_extension": ".py",
   "mimetype": "text/x-python",
   "name": "python",
   "nbconvert_exporter": "python",
   "pygments_lexer": "ipython2",
   "version": "2.7.6"
  }
 },
 "nbformat": 4,
 "nbformat_minor": 5
}
