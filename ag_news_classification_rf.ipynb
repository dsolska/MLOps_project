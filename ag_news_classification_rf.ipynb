{
 "cells": [
  {
   "cell_type": "markdown",
   "source": [
    "## Prepare data"
   ],
   "metadata": {
    "collapsed": false
   },
   "id": "b5fec82c9c775a08"
  },
  {
   "cell_type": "code",
   "execution_count": 40,
   "outputs": [],
   "source": [
    "import pandas as pd\n",
    "\n",
    "data_train = pd.read_csv(\"data_train.csv\")\n",
    "data_test = pd.read_csv(\"data_test.csv\")\n",
    "\n",
    "X_train, y_train = data_train['text'], data_train['label']\n",
    "X_test, y_test = data_test['text'], data_test['label']"
   ],
   "metadata": {
    "collapsed": false,
    "ExecuteTime": {
     "end_time": "2023-12-13T20:44:16.032143Z",
     "start_time": "2023-12-13T20:44:15.676942Z"
    }
   },
   "id": "1d844ee50edb3cce"
  },
  {
   "cell_type": "markdown",
   "source": [
    "## Set up env variable"
   ],
   "metadata": {
    "collapsed": false
   },
   "id": "6b48da31ca585afe"
  },
  {
   "cell_type": "code",
   "execution_count": 41,
   "outputs": [],
   "source": [
    "import os\n",
    "from getpass import getpass\n",
    "os.environ[\"NEPTUNE_API_TOKEN\"] = getpass(\"Enter your API key here: \")"
   ],
   "metadata": {
    "collapsed": false,
    "ExecuteTime": {
     "end_time": "2023-12-13T20:44:40.034580Z",
     "start_time": "2023-12-13T20:44:35.258159Z"
    }
   },
   "id": "642057d47f36b8ee"
  },
  {
   "cell_type": "markdown",
   "source": [
    "## Prepare a loop for creating different models and logging results to Neptune"
   ],
   "metadata": {
    "collapsed": false
   },
   "id": "759234c51f14fa7b"
  },
  {
   "cell_type": "code",
   "execution_count": 42,
   "outputs": [
    {
     "name": "stdout",
     "output_type": "stream",
     "text": [
      "https://app.neptune.ai/dagm.solska/ag-news-classification/e/AG-2\n",
      "Shutting down background jobs, please wait a moment...\n",
      "Done!\n",
      "Waiting for the remaining 70 operations to synchronize with Neptune. Do not kill this process.\n",
      "Still waiting for the remaining 70 operations (0.00% done). Please wait.\n",
      "Still waiting for the remaining 70 operations (0.00% done). Please wait.\n",
      "All 70 operations synced, thanks for waiting!\n",
      "Explore the metadata in the Neptune app:\n",
      "https://app.neptune.ai/dagm.solska/ag-news-classification/e/AG-2/metadata\n",
      "https://app.neptune.ai/dagm.solska/ag-news-classification/e/AG-3\n",
      "Shutting down background jobs, please wait a moment...\n",
      "Done!\n",
      "Waiting for the remaining 70 operations to synchronize with Neptune. Do not kill this process.\n",
      "Still waiting for the remaining 70 operations (0.00% done). Please wait.\n",
      "Still waiting for the remaining 70 operations (0.00% done). Please wait.\n",
      "All 70 operations synced, thanks for waiting!\n",
      "Explore the metadata in the Neptune app:\n",
      "https://app.neptune.ai/dagm.solska/ag-news-classification/e/AG-3/metadata\n",
      "https://app.neptune.ai/dagm.solska/ag-news-classification/e/AG-4\n",
      "Shutting down background jobs, please wait a moment...\n",
      "Done!\n",
      "Waiting for the remaining 70 operations to synchronize with Neptune. Do not kill this process.\n",
      "Still waiting for the remaining 70 operations (0.00% done). Please wait.\n",
      "Still waiting for the remaining 70 operations (0.00% done). Please wait.\n",
      "Still waiting for the remaining 70 operations (0.00% done). Please wait.\n",
      "Still waiting for the remaining 70 operations (0.00% done). Please wait.\n",
      "Still waiting for the remaining 70 operations (0.00% done). Please wait.\n",
      "All 70 operations synced, thanks for waiting!\n",
      "Explore the metadata in the Neptune app:\n",
      "https://app.neptune.ai/dagm.solska/ag-news-classification/e/AG-4/metadata\n",
      "https://app.neptune.ai/dagm.solska/ag-news-classification/e/AG-5\n",
      "Shutting down background jobs, please wait a moment...\n",
      "Done!\n",
      "Waiting for the remaining 70 operations to synchronize with Neptune. Do not kill this process.\n",
      "Still waiting for the remaining 70 operations (0.00% done). Please wait.\n",
      "Still waiting for the remaining 70 operations (0.00% done). Please wait.\n",
      "Still waiting for the remaining 70 operations (0.00% done). Please wait.\n",
      "Still waiting for the remaining 70 operations (0.00% done). Please wait.\n",
      "All 70 operations synced, thanks for waiting!\n",
      "Explore the metadata in the Neptune app:\n",
      "https://app.neptune.ai/dagm.solska/ag-news-classification/e/AG-5/metadata\n",
      "https://app.neptune.ai/dagm.solska/ag-news-classification/e/AG-6\n",
      "Shutting down background jobs, please wait a moment...\n"
     ]
    },
    {
     "name": "stderr",
     "output_type": "stream",
     "text": [
      "Exception in thread NeptuneWebhooks:\n",
      "Traceback (most recent call last):\n",
      "  File \"/Users/dagmarasolska/PycharmProjects/neptunetask/venv/lib/python3.9/site-packages/websocket/_socket.py\", line 176, in send\n",
      "    return _send()\n",
      "  File \"/Users/dagmarasolska/PycharmProjects/neptunetask/venv/lib/python3.9/site-packages/websocket/_socket.py\", line 153, in _send\n",
      "    return sock.send(data)\n",
      "  File \"/Library/Developer/CommandLineTools/Library/Frameworks/Python3.framework/Versions/3.9/lib/python3.9/ssl.py\", line 1173, in send\n",
      "    return self._sslobj.write(data)\n",
      "socket.timeout: The write operation timed out\n",
      "\n",
      "During handling of the above exception, another exception occurred:\n",
      "\n",
      "Traceback (most recent call last):\n",
      "  File \"/Library/Developer/CommandLineTools/Library/Frameworks/Python3.framework/Versions/3.9/lib/python3.9/threading.py\", line 973, in _bootstrap_inner\n",
      "    self.run()\n",
      "  File \"/Users/dagmarasolska/PycharmProjects/neptunetask/venv/lib/python3.9/site-packages/neptune/internal/threading/daemon.py\", line 94, in run\n",
      "    self.work()\n",
      "  File \"/Users/dagmarasolska/PycharmProjects/neptunetask/venv/lib/python3.9/site-packages/neptune/internal/websockets/websocket_signals_background_job.py\", line 85, in work\n",
      "    raw_message = self._ws_client.recv()\n",
      "  File \"/Users/dagmarasolska/PycharmProjects/neptunetask/venv/lib/python3.9/site-packages/neptune/common/websockets/reconnecting_websocket.py\", line 51, in recv\n",
      "    data = self.client.recv()\n",
      "  File \"/Users/dagmarasolska/PycharmProjects/neptunetask/venv/lib/python3.9/site-packages/neptune/common/websockets/websocket_client_adapter.py\", line 63, in recv\n",
      "    opcode, data = self._ws_client.recv_data()\n",
      "  File \"/Users/dagmarasolska/PycharmProjects/neptunetask/venv/lib/python3.9/site-packages/websocket/_core.py\", line 416, in recv_data\n",
      "    opcode, frame = self.recv_data_frame(control_frame)\n",
      "  File \"/Users/dagmarasolska/PycharmProjects/neptunetask/venv/lib/python3.9/site-packages/websocket/_core.py\", line 457, in recv_data_frame\n",
      "    self.send_close()\n",
      "  File \"/Users/dagmarasolska/PycharmProjects/neptunetask/venv/lib/python3.9/site-packages/websocket/_core.py\", line 494, in send_close\n",
      "    self.send(struct.pack(\"!H\", status) + reason, ABNF.OPCODE_CLOSE)\n",
      "  File \"/Users/dagmarasolska/PycharmProjects/neptunetask/venv/lib/python3.9/site-packages/websocket/_core.py\", line 297, in send\n",
      "    return self.send_frame(frame)\n",
      "  File \"/Users/dagmarasolska/PycharmProjects/neptunetask/venv/lib/python3.9/site-packages/websocket/_core.py\", line 337, in send_frame\n",
      "    l = self._send(data)\n",
      "  File \"/Users/dagmarasolska/PycharmProjects/neptunetask/venv/lib/python3.9/site-packages/websocket/_core.py\", line 559, in _send\n",
      "    return send(self.sock, data)\n",
      "  File \"/Users/dagmarasolska/PycharmProjects/neptunetask/venv/lib/python3.9/site-packages/websocket/_socket.py\", line 179, in send\n",
      "    raise WebSocketTimeoutException(message)\n",
      "websocket._exceptions.WebSocketTimeoutException: The write operation timed out\n"
     ]
    },
    {
     "name": "stdout",
     "output_type": "stream",
     "text": [
      "Done!\n",
      "Waiting for the remaining 70 operations to synchronize with Neptune. Do not kill this process.\n",
      "Still waiting for the remaining 70 operations (0.00% done). Please wait.\n",
      "Still waiting for the remaining 70 operations (0.00% done). Please wait.\n",
      "Still waiting for the remaining 70 operations (0.00% done). Please wait.\n",
      "Still waiting for the remaining 70 operations (0.00% done). Please wait.\n",
      "Still waiting for the remaining 70 operations (0.00% done). Please wait.\n",
      "Still waiting for the remaining 70 operations (0.00% done). Please wait.\n",
      "Still waiting for the remaining 70 operations (0.00% done). Please wait.\n",
      "Still waiting for the remaining 70 operations (0.00% done). Please wait.\n",
      "Still waiting for the remaining 70 operations (0.00% done). Please wait.\n",
      "Still waiting for the remaining 70 operations (0.00% done). Please wait.\n",
      "All 70 operations synced, thanks for waiting!\n",
      "Explore the metadata in the Neptune app:\n",
      "https://app.neptune.ai/dagm.solska/ag-news-classification/e/AG-6/metadata\n",
      "https://app.neptune.ai/dagm.solska/ag-news-classification/e/AG-7\n",
      "Shutting down background jobs, please wait a moment...\n",
      "Done!\n",
      "Waiting for the remaining 70 operations to synchronize with Neptune. Do not kill this process.\n",
      "Still waiting for the remaining 70 operations (0.00% done). Please wait.\n",
      "Still waiting for the remaining 70 operations (0.00% done). Please wait.\n",
      "Still waiting for the remaining 70 operations (0.00% done). Please wait.\n",
      "Still waiting for the remaining 70 operations (0.00% done). Please wait.\n",
      "Still waiting for the remaining 70 operations (0.00% done). Please wait.\n",
      "Still waiting for the remaining 70 operations (0.00% done). Please wait.\n",
      "Still waiting for the remaining 70 operations (0.00% done). Please wait.\n",
      "Still waiting for the remaining 70 operations (0.00% done). Please wait.\n",
      "All 70 operations synced, thanks for waiting!\n",
      "Explore the metadata in the Neptune app:\n",
      "https://app.neptune.ai/dagm.solska/ag-news-classification/e/AG-7/metadata\n"
     ]
    }
   ],
   "source": [
    "import neptune\n",
    "import neptune.integrations.sklearn as npt_utils\n",
    "from sklearn.pipeline import Pipeline\n",
    "from sklearn.ensemble import RandomForestClassifier\n",
    "from sklearn.feature_extraction.text import CountVectorizer, TfidfTransformer\n",
    "\n",
    "# Train multiple models in separate runs to compare them in the app\n",
    "n_estimators= [50, 100, 200]\n",
    "min_samples_split = [2, 5]\n",
    "for estimators in n_estimators:\n",
    "    for min_split in min_samples_split:\n",
    "    \n",
    "        run = neptune.init_run(\n",
    "        name=f\"RandomForest with {estimators} trees and {min_split} min samples split\",\n",
    "        tags=[\"RandomForest\", \"classification\"],\n",
    "        project=\"dagm.solska/ag-news-classification\",\n",
    "        )\n",
    "        \n",
    "        text_clf = Pipeline([\n",
    "        ('vect', CountVectorizer()),\n",
    "        ('tfidf', TfidfTransformer()),\n",
    "        ('clf', RandomForestClassifier(n_estimators=estimators, min_samples_split=min_split)),\n",
    "            ],\n",
    "        )\n",
    "        text_clf.fit(X_train, y_train)\n",
    "        \n",
    "        run[\"cls_summary\"] = npt_utils.create_classifier_summary(\n",
    "        text_clf, X_train, X_test, y_train, y_test\n",
    "        )\n",
    "        run.stop()"
   ],
   "metadata": {
    "collapsed": false,
    "ExecuteTime": {
     "end_time": "2023-12-13T22:01:43.569628Z",
     "start_time": "2023-12-13T20:44:45.821432Z"
    }
   },
   "id": "fd4973c8016d8e57"
  },
  {
   "cell_type": "markdown",
   "source": [
    "## Log notebook to the app"
   ],
   "metadata": {
    "collapsed": false
   },
   "id": "b812b6eb32dc2f00"
  },
  {
   "cell_type": "code",
   "execution_count": 43,
   "outputs": [
    {
     "name": "stdout",
     "output_type": "stream",
     "text": [
      "https://app.neptune.ai/dagm.solska/ag-news-classification/\n",
      "Shutting down background jobs, please wait a moment...\n",
      "Done!\n",
      "Waiting for the remaining 1 operations to synchronize with Neptune. Do not kill this process.\n",
      "All 1 operations synced, thanks for waiting!\n",
      "Explore the metadata in the Neptune app:\n",
      "https://app.neptune.ai/dagm.solska/ag-news-classification/metadata\n"
     ]
    }
   ],
   "source": [
    "project = neptune.init_project(project=\"dagm.solska/ag-news-classification\")\n",
    "project[\"initial_experiment\"].upload(\"ag_news_classification_rf.ipynb\")\n",
    "project.stop()"
   ],
   "metadata": {
    "collapsed": false,
    "ExecuteTime": {
     "end_time": "2023-12-13T22:10:05.561338Z",
     "start_time": "2023-12-13T22:10:04.866258Z"
    }
   },
   "id": "11a52e9f61200e0f"
  }
 ],
 "metadata": {
  "kernelspec": {
   "display_name": "Python 3",
   "language": "python",
   "name": "python3"
  },
  "language_info": {
   "codemirror_mode": {
    "name": "ipython",
    "version": 2
   },
   "file_extension": ".py",
   "mimetype": "text/x-python",
   "name": "python",
   "nbconvert_exporter": "python",
   "pygments_lexer": "ipython2",
   "version": "2.7.6"
  }
 },
 "nbformat": 4,
 "nbformat_minor": 5
}
